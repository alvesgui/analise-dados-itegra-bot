{
 "cells": [
  {
   "cell_type": "code",
   "execution_count": 1,
   "metadata": {},
   "outputs": [],
   "source": [
    "import pandas as pd\n",
    "import numpy as np\n",
    "import matplotlib.pyplot as plt"
   ]
  },
  {
   "cell_type": "code",
   "execution_count": 2,
   "metadata": {},
   "outputs": [
    {
     "data": {
      "text/html": [
       "<div>\n",
       "<style scoped>\n",
       "    .dataframe tbody tr th:only-of-type {\n",
       "        vertical-align: middle;\n",
       "    }\n",
       "\n",
       "    .dataframe tbody tr th {\n",
       "        vertical-align: top;\n",
       "    }\n",
       "\n",
       "    .dataframe thead th {\n",
       "        text-align: right;\n",
       "    }\n",
       "</style>\n",
       "<table border=\"1\" class=\"dataframe\">\n",
       "  <thead>\n",
       "    <tr style=\"text-align: right;\">\n",
       "      <th></th>\n",
       "      <th>Cargo</th>\n",
       "      <th>Setor</th>\n",
       "      <th>Salário Bruto</th>\n",
       "      <th>Tipo de Contratação</th>\n",
       "      <th>Carga Horária por dia</th>\n",
       "      <th>Formação</th>\n",
       "      <th>Idade</th>\n",
       "      <th>NPS interno</th>\n",
       "      <th>Tempo de empresa</th>\n",
       "    </tr>\n",
       "  </thead>\n",
       "  <tbody>\n",
       "    <tr>\n",
       "      <th>0</th>\n",
       "      <td>Cientista de Dados</td>\n",
       "      <td>Dados</td>\n",
       "      <td>6000</td>\n",
       "      <td>CLT</td>\n",
       "      <td>8</td>\n",
       "      <td>Bacharel</td>\n",
       "      <td>24</td>\n",
       "      <td>9</td>\n",
       "      <td>4.0</td>\n",
       "    </tr>\n",
       "    <tr>\n",
       "      <th>1</th>\n",
       "      <td>Cientista de Dados</td>\n",
       "      <td>Dados</td>\n",
       "      <td>6500</td>\n",
       "      <td>CLT</td>\n",
       "      <td>8</td>\n",
       "      <td>Bacharel</td>\n",
       "      <td>26</td>\n",
       "      <td>9,6</td>\n",
       "      <td>3.0</td>\n",
       "    </tr>\n",
       "    <tr>\n",
       "      <th>2</th>\n",
       "      <td>Analista de Dados</td>\n",
       "      <td>Dados</td>\n",
       "      <td>5000</td>\n",
       "      <td>CLT</td>\n",
       "      <td>8</td>\n",
       "      <td>Bacharel</td>\n",
       "      <td>29</td>\n",
       "      <td>8</td>\n",
       "      <td>2.0</td>\n",
       "    </tr>\n",
       "    <tr>\n",
       "      <th>3</th>\n",
       "      <td>Analista de Dados</td>\n",
       "      <td>Dados</td>\n",
       "      <td>5800</td>\n",
       "      <td>CLT</td>\n",
       "      <td>8</td>\n",
       "      <td>Bacharel</td>\n",
       "      <td>36</td>\n",
       "      <td>9</td>\n",
       "      <td>4.0</td>\n",
       "    </tr>\n",
       "    <tr>\n",
       "      <th>4</th>\n",
       "      <td>Analista de Dados</td>\n",
       "      <td>Dados</td>\n",
       "      <td>7000</td>\n",
       "      <td>CLT</td>\n",
       "      <td>8</td>\n",
       "      <td>Bacharel</td>\n",
       "      <td>32</td>\n",
       "      <td>9,4</td>\n",
       "      <td>3.0</td>\n",
       "    </tr>\n",
       "  </tbody>\n",
       "</table>\n",
       "</div>"
      ],
      "text/plain": [
       "                Cargo  Setor  Salário Bruto Tipo de Contratação  \\\n",
       "0  Cientista de Dados  Dados           6000                 CLT   \n",
       "1  Cientista de Dados  Dados           6500                 CLT   \n",
       "2   Analista de Dados  Dados           5000                 CLT   \n",
       "3   Analista de Dados  Dados           5800                 CLT   \n",
       "4   Analista de Dados  Dados           7000                 CLT   \n",
       "\n",
       "   Carga Horária por dia  Formação  Idade NPS interno  Tempo de empresa  \n",
       "0                      8  Bacharel     24           9               4.0  \n",
       "1                      8  Bacharel     26         9,6               3.0  \n",
       "2                      8  Bacharel     29           8               2.0  \n",
       "3                      8  Bacharel     36           9               4.0  \n",
       "4                      8  Bacharel     32         9,4               3.0  "
      ]
     },
     "execution_count": 2,
     "metadata": {},
     "output_type": "execute_result"
    }
   ],
   "source": [
    "df = pd.read_csv(\"../data/raw/Avaliacao_Mensal_Funcionarios.csv\")\n",
    "df.head()"
   ]
  },
  {
   "cell_type": "code",
   "execution_count": 4,
   "metadata": {},
   "outputs": [
    {
     "name": "stdout",
     "output_type": "stream",
     "text": [
      "<class 'pandas.core.frame.DataFrame'>\n",
      "RangeIndex: 90 entries, 0 to 89\n",
      "Data columns (total 9 columns):\n",
      " #   Column                 Non-Null Count  Dtype  \n",
      "---  ------                 --------------  -----  \n",
      " 0   Cargo                  90 non-null     object \n",
      " 1   Setor                  90 non-null     object \n",
      " 2   Salário Bruto          90 non-null     int64  \n",
      " 3   Tipo de Contratação    90 non-null     object \n",
      " 4   Carga Horária por dia  90 non-null     int64  \n",
      " 5   Formação               90 non-null     object \n",
      " 6   Idade                  90 non-null     int64  \n",
      " 7   NPS interno            90 non-null     float64\n",
      " 8   Tempo de empresa       88 non-null     float64\n",
      "dtypes: float64(2), int64(3), object(4)\n",
      "memory usage: 6.5+ KB\n"
     ]
    }
   ],
   "source": [
    "df.info()"
   ]
  },
  {
   "cell_type": "code",
   "execution_count": 3,
   "metadata": {},
   "outputs": [],
   "source": [
    "df['NPS interno'] = df['NPS interno'].str.replace(\",\", \".\").astype(\"float\")"
   ]
  },
  {
   "cell_type": "code",
   "execution_count": null,
   "metadata": {},
   "outputs": [],
   "source": []
  },
  {
   "cell_type": "code",
   "execution_count": null,
   "metadata": {},
   "outputs": [],
   "source": []
  }
 ],
 "metadata": {
  "kernelspec": {
   "display_name": "Python 3.10.6 64-bit",
   "language": "python",
   "name": "python3"
  },
  "language_info": {
   "codemirror_mode": {
    "name": "ipython",
    "version": 3
   },
   "file_extension": ".py",
   "mimetype": "text/x-python",
   "name": "python",
   "nbconvert_exporter": "python",
   "pygments_lexer": "ipython3",
   "version": "3.10.6"
  },
  "orig_nbformat": 4,
  "vscode": {
   "interpreter": {
    "hash": "916dbcbb3f70747c44a77c7bcd40155683ae19c65e1c03b4aa3499c5328201f1"
   }
  }
 },
 "nbformat": 4,
 "nbformat_minor": 2
}
